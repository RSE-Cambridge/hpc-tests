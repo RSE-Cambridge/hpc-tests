{
 "cells": [
  {
   "cell_type": "code",
   "execution_count": 1,
   "metadata": {},
   "outputs": [],
   "source": [
    "from pprint import pprint\n",
    "import os, sys\n",
    "\n",
    "# import reframe test script:\n",
    "sys.path.append('../reframe') # so that next line can find reframe itself ...\n",
    "import reframe_imb"
   ]
  },
  {
   "cell_type": "code",
   "execution_count": 2,
   "metadata": {},
   "outputs": [
    {
     "name": "stdout",
     "output_type": "stream",
     "text": [
      "['../output/alaska/compute-ib/gnu-openmpi/IMB_PingPong/rfm_IMB_PingPong_job.out', '../output/alaska/compute-ib/gnu-openmpi/IMB_Uniband/rfm_IMB_Uniband_job.out', '../output/alaska/compute-roce/gnu-openmpi/IMB_PingPong/rfm_IMB_PingPong_job.out', '../output/alaska/compute-roce/gnu-openmpi/IMB_Uniband/rfm_IMB_Uniband_job.out']\n"
     ]
    }
   ],
   "source": [
    "# find output files for this test:\n",
    "def find_run_outputs(root='.', test=None, ext='.out'):\n",
    "    \"\"\" Find test files within an output tree.\n",
    "    \n",
    "        Args:\n",
    "            root: path to start searching from\n",
    "            test: str, limit results to directories which contain this string (default: all)\n",
    "            ext: str, limit results to files with this extension\n",
    "        \n",
    "        Returns a sequence of str paths.\n",
    "    \"\"\"\n",
    "    \n",
    "    # directory is soemthing like:\n",
    "    # ../output/sausage-newslurm/compute/gnu8-openmpi3/IMB_MPI1Test/\n",
    "    \n",
    "    # TODO: use reframe/reframe/frontend/cli.py code to get the current system, something like\n",
    "    # import reframe\n",
    "    # import reframe.core.config as config\n",
    "    # import reframe.core.runtime as runtime\n",
    "    # import os\n",
    "\n",
    "    # # assume default location!\n",
    "    # print(reframe.INSTALL_PREFIX)\n",
    "    # config_file = os.path.join(reframe.INSTALL_PREFIX, 'reframe/settings.py')\n",
    "    # settings = config.load_settings_from_file(config_file)\n",
    "    # runtime.init_runtime(settings.site_configuration, options.system,\n",
    "    #                              non_default_craype=options.non_default_craype)\n",
    "    \n",
    "    results = []\n",
    "    for (dirpath, dirnames, filenames) in os.walk(root):\n",
    "        # in-place filter dirnames to avoid hidden directories:\n",
    "        for idx, d in enumerate(dirnames):\n",
    "            if d.startswith('.'):\n",
    "                del dirnames[idx]\n",
    "        for f in filenames:\n",
    "            if os.path.splitext(f)[-1] == ext:\n",
    "                path = os.path.join(dirpath, f)\n",
    "                testdir = os.path.basename(os.path.dirname(path))\n",
    "                if test is None or test in testdir:\n",
    "                    results.append(path)\n",
    "    return(results)\n",
    "                \n",
    "run_outputs = find_run_outputs('../output', 'IMB')\n",
    "print(run_outputs)"
   ]
  },
  {
   "cell_type": "code",
   "execution_count": 3,
   "metadata": {},
   "outputs": [
    {
     "name": "stdout",
     "output_type": "stream",
     "text": [
      "read ../output/alaska/compute-ib/gnu-openmpi/IMB_PingPong/rfm_IMB_PingPong_job.out\n",
      "{'benchmark': 'pingpong',\n",
      " 'environ': 'gnu-openmpi',\n",
      " 'filename': 'rfm_IMB_PingPong_job.out',\n",
      " 'partition': 'compute-ib',\n",
      " 'path': '../output/alaska/compute-ib/gnu-openmpi/IMB_PingPong/rfm_IMB_PingPong_job.out',\n",
      " 'processes': 2,\n",
      " 'sysname': 'alaska',\n",
      " 'testname': 'IMB_PingPong'}\n",
      "read ../output/alaska/compute-ib/gnu-openmpi/IMB_Uniband/rfm_IMB_Uniband_job.out\n",
      "{'benchmark': 'uniband',\n",
      " 'environ': 'gnu-openmpi',\n",
      " 'filename': 'rfm_IMB_Uniband_job.out',\n",
      " 'partition': 'compute-ib',\n",
      " 'path': '../output/alaska/compute-ib/gnu-openmpi/IMB_Uniband/rfm_IMB_Uniband_job.out',\n",
      " 'processes': 2,\n",
      " 'sysname': 'alaska',\n",
      " 'testname': 'IMB_Uniband'}\n",
      "read ../output/alaska/compute-roce/gnu-openmpi/IMB_PingPong/rfm_IMB_PingPong_job.out\n",
      "{'benchmark': 'pingpong',\n",
      " 'environ': 'gnu-openmpi',\n",
      " 'filename': 'rfm_IMB_PingPong_job.out',\n",
      " 'partition': 'compute-roce',\n",
      " 'path': '../output/alaska/compute-roce/gnu-openmpi/IMB_PingPong/rfm_IMB_PingPong_job.out',\n",
      " 'processes': 2,\n",
      " 'sysname': 'alaska',\n",
      " 'testname': 'IMB_PingPong'}\n",
      "read ../output/alaska/compute-roce/gnu-openmpi/IMB_Uniband/rfm_IMB_Uniband_job.out\n",
      "{'benchmark': 'uniband',\n",
      " 'environ': 'gnu-openmpi',\n",
      " 'filename': 'rfm_IMB_Uniband_job.out',\n",
      " 'partition': 'compute-roce',\n",
      " 'path': '../output/alaska/compute-roce/gnu-openmpi/IMB_Uniband/rfm_IMB_Uniband_job.out',\n",
      " 'processes': 2,\n",
      " 'sysname': 'alaska',\n",
      " 'testname': 'IMB_Uniband'}\n"
     ]
    }
   ],
   "source": [
    "# load results using the same function that we use for reframe performance tests:\n",
    "# TODO: add groupby= based off metadata?\n",
    "results = []\n",
    "for path in run_outputs:\n",
    "    result = reframe_imb.read_imb_out(path)\n",
    "    results.append(result)\n",
    "    print('read', path)\n",
    "    pprint(result['meta'])"
   ]
  },
  {
   "cell_type": "code",
   "execution_count": 4,
   "metadata": {},
   "outputs": [
    {
     "name": "stdout",
     "output_type": "stream",
     "text": [
      "IMB_PingPong :\n",
      "   rfm_IMB_PingPong_job.out\n",
      "   rfm_IMB_PingPong_job.out\n",
      "IMB_Uniband :\n",
      "   rfm_IMB_Uniband_job.out\n",
      "   rfm_IMB_Uniband_job.out\n"
     ]
    }
   ],
   "source": [
    "# Group results by *testname*\n",
    "\n",
    "test_results = {} # key: test name\n",
    "\n",
    "for result in results:\n",
    "    testname = result['meta']['testname']\n",
    "    cases = test_results.setdefault(testname, [])\n",
    "    cases.append(result)\n",
    "\n",
    "for test, cases in test_results.items():\n",
    "    print(test, ':')\n",
    "    for c in cases:\n",
    "        print('  ', c['meta']['filename'])\n",
    "        #pprint(c['meta'])"
   ]
  },
  {
   "cell_type": "code",
   "execution_count": 5,
   "metadata": {},
   "outputs": [
    {
     "name": "stdout",
     "output_type": "stream",
     "text": [
      "common:\n",
      "{'benchmark': 'pingpong',\n",
      " 'environ': 'gnu-openmpi',\n",
      " 'filename': 'rfm_IMB_PingPong_job.out',\n",
      " 'processes': 2,\n",
      " 'sysname': 'alaska',\n",
      " 'testname': 'IMB_PingPong'}\n",
      "differences:\n",
      "[{'partition': 'compute-ib'}, {'partition': 'compute-roce'}]\n"
     ]
    }
   ],
   "source": [
    "def diff_meta(results, ignore=['path']):\n",
    "    \"\"\" Given a sequence of results dicts, returns\n",
    "            \n",
    "            common, [difference1, difference2, ...]\n",
    "        \n",
    "        where each of these are dicts based on the ['meta'] properties of each result dict\n",
    "        ignoring given keys\n",
    "        \n",
    "        TODO: describe this properly\n",
    "    \"\"\"\n",
    "    \n",
    "    meta = [r['meta'].copy() for r in results]\n",
    "    \n",
    "    for key in ignore:\n",
    "        for m in meta:\n",
    "            m.pop(key, None)\n",
    "    keyvals = [set(zip(m.keys(), m.values())) for m in meta]\n",
    "    common = keyvals[0].intersection(*keyvals[1:])\n",
    "    differences = [dict(b.difference(common)) for b in keyvals]\n",
    "    return dict(common), differences\n",
    "                   \n",
    "# tests:                   \n",
    "c, d = diff_meta(test_results['IMB_PingPong'])\n",
    "print('common:')\n",
    "pprint(c)\n",
    "print('differences:')\n",
    "pprint(d)\n"
   ]
  },
  {
   "cell_type": "code",
   "execution_count": 6,
   "metadata": {},
   "outputs": [],
   "source": [
    "# read perflog info:\n",
    "def read_perflog(path):\n",
    "    perf = []\n",
    "    with open(path) as f:\n",
    "        for line in f:\n",
    "            # TODO: read this from reframe-settings handlers_perflog/filelog?\n",
    "            LOG_FIELDS = 'completion_time,reframe_version,check_system,check_partition,environ,testname,jobid,perf_data,perf_unit,perf_ref'.split(',')\n",
    "            record = dict(zip(LOG_FIELDS,line.split('|')))\n",
    "            perf_var, perf_value = record['perf_data'].split('=')\n",
    "            record['perf_var'] = perf_value\n",
    "            perf.append(record)\n",
    "    return perf\n",
    "\n",
    "\n",
    "def get_perflogs(root='../perflogs', system=None, partition=None, test=None):\n",
    "    records = []\n",
    "    for (dirpath, dirnames, filenames) in os.walk(root):\n",
    "        for f in filenames:\n",
    "            if os.path.splitext(f)[-1] != '.log':\n",
    "                continue\n",
    "            path = os.path.join(dirpath, f)\n",
    "            meta = reframe_imb.parse_path_metadata(path)\n",
    "            if system is None or meta['sysname'] == system:\n",
    "                if partition is None or meta['partition'] == partition:\n",
    "                    if test is None or meta['testname'] == test:\n",
    "                        logrecords = read_perflog(path)\n",
    "                        records.extend(logrecords)\n",
    "    return records\n",
    "\n",
    "\n",
    "# for record in get_perflogs():\n",
    "#     print(record)\n",
    "#     print(perf_log)"
   ]
  },
  {
   "cell_type": "code",
   "execution_count": 22,
   "metadata": {},
   "outputs": [
    {
     "name": "stdout",
     "output_type": "stream",
     "text": [
      "IMB_PingPong :\n",
      "[{'completion_time': '2020-05-26T11:22:53+01:00', 'reframe_version': 'reframe 3.0-dev6 (rev: 3f0c45d4)', 'check_system': 'alaska', 'check_partition': 'compute-ib', 'environ': 'gnu-openmpi', 'testname': 'IMB_PingPong', 'jobid': 'jobid=358', 'perf_data': 'pingpong_max_bandwidth=11926.96', 'perf_unit': 'Mbytes/sec', 'perf_ref': 'ref=0 (l=None, u=None)\\n', 'perf_var': '11926.96'}, {'completion_time': '2020-05-26T11:22:53+01:00', 'reframe_version': 'reframe 3.0-dev6 (rev: 3f0c45d4)', 'check_system': 'alaska', 'check_partition': 'compute-ib', 'environ': 'gnu-openmpi', 'testname': 'IMB_PingPong', 'jobid': 'jobid=358', 'perf_data': 'pingpong_min_latency=1.31', 'perf_unit': 't[usec]', 'perf_ref': 'ref=0 (l=None, u=None)\\n', 'perf_var': '1.31'}, {'completion_time': '2020-05-26T11:23:41+01:00', 'reframe_version': 'reframe 3.0-dev6 (rev: 3f0c45d4)', 'check_system': 'alaska', 'check_partition': 'compute-ib', 'environ': 'gnu-openmpi', 'testname': 'IMB_PingPong', 'jobid': 'jobid=362', 'perf_data': 'pingpong_max_bandwidth=11931.86', 'perf_unit': 'Mbytes/sec', 'perf_ref': 'ref=0 (l=None, u=None)\\n', 'perf_var': '11931.86'}, {'completion_time': '2020-05-26T11:23:41+01:00', 'reframe_version': 'reframe 3.0-dev6 (rev: 3f0c45d4)', 'check_system': 'alaska', 'check_partition': 'compute-ib', 'environ': 'gnu-openmpi', 'testname': 'IMB_PingPong', 'jobid': 'jobid=362', 'perf_data': 'pingpong_min_latency=1.26', 'perf_unit': 't[usec]', 'perf_ref': 'ref=0 (l=None, u=None)\\n', 'perf_var': '1.26'}, {'completion_time': '2020-05-26T11:22:54+01:00', 'reframe_version': 'reframe 3.0-dev6 (rev: 3f0c45d4)', 'check_system': 'alaska', 'check_partition': 'compute-roce', 'environ': 'gnu-openmpi', 'testname': 'IMB_PingPong', 'jobid': 'jobid=359', 'perf_data': 'pingpong_max_bandwidth=3046.29', 'perf_unit': 'Mbytes/sec', 'perf_ref': 'ref=0 (l=None, u=None)\\n', 'perf_var': '3046.29'}, {'completion_time': '2020-05-26T11:22:54+01:00', 'reframe_version': 'reframe 3.0-dev6 (rev: 3f0c45d4)', 'check_system': 'alaska', 'check_partition': 'compute-roce', 'environ': 'gnu-openmpi', 'testname': 'IMB_PingPong', 'jobid': 'jobid=359', 'perf_data': 'pingpong_min_latency=1.55', 'perf_unit': 't[usec]', 'perf_ref': 'ref=0 (l=None, u=None)\\n', 'perf_var': '1.55'}, {'completion_time': '2020-05-26T11:23:43+01:00', 'reframe_version': 'reframe 3.0-dev6 (rev: 3f0c45d4)', 'check_system': 'alaska', 'check_partition': 'compute-roce', 'environ': 'gnu-openmpi', 'testname': 'IMB_PingPong', 'jobid': 'jobid=363', 'perf_data': 'pingpong_max_bandwidth=3040.37', 'perf_unit': 'Mbytes/sec', 'perf_ref': 'ref=0 (l=None, u=None)\\n', 'perf_var': '3040.37'}, {'completion_time': '2020-05-26T11:23:43+01:00', 'reframe_version': 'reframe 3.0-dev6 (rev: 3f0c45d4)', 'check_system': 'alaska', 'check_partition': 'compute-roce', 'environ': 'gnu-openmpi', 'testname': 'IMB_PingPong', 'jobid': 'jobid=363', 'perf_data': 'pingpong_min_latency=2.23', 'perf_unit': 't[usec]', 'perf_ref': 'ref=0 (l=None, u=None)\\n', 'perf_var': '2.23'}]\n",
      "IMB_PingPong :\n",
      "[{'completion_time': '2020-05-26T11:22:53+01:00', 'reframe_version': 'reframe 3.0-dev6 (rev: 3f0c45d4)', 'check_system': 'alaska', 'check_partition': 'compute-ib', 'environ': 'gnu-openmpi', 'testname': 'IMB_PingPong', 'jobid': 'jobid=358', 'perf_data': 'pingpong_max_bandwidth=11926.96', 'perf_unit': 'Mbytes/sec', 'perf_ref': 'ref=0 (l=None, u=None)\\n', 'perf_var': '11926.96'}, {'completion_time': '2020-05-26T11:22:53+01:00', 'reframe_version': 'reframe 3.0-dev6 (rev: 3f0c45d4)', 'check_system': 'alaska', 'check_partition': 'compute-ib', 'environ': 'gnu-openmpi', 'testname': 'IMB_PingPong', 'jobid': 'jobid=358', 'perf_data': 'pingpong_min_latency=1.31', 'perf_unit': 't[usec]', 'perf_ref': 'ref=0 (l=None, u=None)\\n', 'perf_var': '1.31'}, {'completion_time': '2020-05-26T11:23:41+01:00', 'reframe_version': 'reframe 3.0-dev6 (rev: 3f0c45d4)', 'check_system': 'alaska', 'check_partition': 'compute-ib', 'environ': 'gnu-openmpi', 'testname': 'IMB_PingPong', 'jobid': 'jobid=362', 'perf_data': 'pingpong_max_bandwidth=11931.86', 'perf_unit': 'Mbytes/sec', 'perf_ref': 'ref=0 (l=None, u=None)\\n', 'perf_var': '11931.86'}, {'completion_time': '2020-05-26T11:23:41+01:00', 'reframe_version': 'reframe 3.0-dev6 (rev: 3f0c45d4)', 'check_system': 'alaska', 'check_partition': 'compute-ib', 'environ': 'gnu-openmpi', 'testname': 'IMB_PingPong', 'jobid': 'jobid=362', 'perf_data': 'pingpong_min_latency=1.26', 'perf_unit': 't[usec]', 'perf_ref': 'ref=0 (l=None, u=None)\\n', 'perf_var': '1.26'}, {'completion_time': '2020-05-26T11:22:54+01:00', 'reframe_version': 'reframe 3.0-dev6 (rev: 3f0c45d4)', 'check_system': 'alaska', 'check_partition': 'compute-roce', 'environ': 'gnu-openmpi', 'testname': 'IMB_PingPong', 'jobid': 'jobid=359', 'perf_data': 'pingpong_max_bandwidth=3046.29', 'perf_unit': 'Mbytes/sec', 'perf_ref': 'ref=0 (l=None, u=None)\\n', 'perf_var': '3046.29'}, {'completion_time': '2020-05-26T11:22:54+01:00', 'reframe_version': 'reframe 3.0-dev6 (rev: 3f0c45d4)', 'check_system': 'alaska', 'check_partition': 'compute-roce', 'environ': 'gnu-openmpi', 'testname': 'IMB_PingPong', 'jobid': 'jobid=359', 'perf_data': 'pingpong_min_latency=1.55', 'perf_unit': 't[usec]', 'perf_ref': 'ref=0 (l=None, u=None)\\n', 'perf_var': '1.55'}, {'completion_time': '2020-05-26T11:23:43+01:00', 'reframe_version': 'reframe 3.0-dev6 (rev: 3f0c45d4)', 'check_system': 'alaska', 'check_partition': 'compute-roce', 'environ': 'gnu-openmpi', 'testname': 'IMB_PingPong', 'jobid': 'jobid=363', 'perf_data': 'pingpong_max_bandwidth=3040.37', 'perf_unit': 'Mbytes/sec', 'perf_ref': 'ref=0 (l=None, u=None)\\n', 'perf_var': '3040.37'}, {'completion_time': '2020-05-26T11:23:43+01:00', 'reframe_version': 'reframe 3.0-dev6 (rev: 3f0c45d4)', 'check_system': 'alaska', 'check_partition': 'compute-roce', 'environ': 'gnu-openmpi', 'testname': 'IMB_PingPong', 'jobid': 'jobid=363', 'perf_data': 'pingpong_min_latency=2.23', 'perf_unit': 't[usec]', 'perf_ref': 'ref=0 (l=None, u=None)\\n', 'perf_var': '2.23'}]\n",
      "IMB_Uniband :\n",
      "[{'completion_time': '2020-05-26T11:23:00+01:00', 'reframe_version': 'reframe 3.0-dev6 (rev: 3f0c45d4)', 'check_system': 'alaska', 'check_partition': 'compute-ib', 'environ': 'gnu-openmpi', 'testname': 'IMB_Uniband', 'jobid': 'jobid=360', 'perf_data': 'uniband_max_bandwidth=12112.32', 'perf_unit': 'Mbytes/sec', 'perf_ref': 'ref=0 (l=None, u=None)\\n', 'perf_var': '12112.32'}, {'completion_time': '2020-05-26T11:23:49+01:00', 'reframe_version': 'reframe 3.0-dev6 (rev: 3f0c45d4)', 'check_system': 'alaska', 'check_partition': 'compute-ib', 'environ': 'gnu-openmpi', 'testname': 'IMB_Uniband', 'jobid': 'jobid=364', 'perf_data': 'uniband_max_bandwidth=12061.8', 'perf_unit': 'Mbytes/sec', 'perf_ref': 'ref=0 (l=None, u=None)\\n', 'perf_var': '12061.8'}, {'completion_time': '2020-05-26T11:23:15+01:00', 'reframe_version': 'reframe 3.0-dev6 (rev: 3f0c45d4)', 'check_system': 'alaska', 'check_partition': 'compute-roce', 'environ': 'gnu-openmpi', 'testname': 'IMB_Uniband', 'jobid': 'jobid=361', 'perf_data': 'uniband_max_bandwidth=3062.87', 'perf_unit': 'Mbytes/sec', 'perf_ref': 'ref=0 (l=None, u=None)\\n', 'perf_var': '3062.87'}, {'completion_time': '2020-05-26T11:24:03+01:00', 'reframe_version': 'reframe 3.0-dev6 (rev: 3f0c45d4)', 'check_system': 'alaska', 'check_partition': 'compute-roce', 'environ': 'gnu-openmpi', 'testname': 'IMB_Uniband', 'jobid': 'jobid=365', 'perf_data': 'uniband_max_bandwidth=3062.65', 'perf_unit': 'Mbytes/sec', 'perf_ref': 'ref=0 (l=None, u=None)\\n', 'perf_var': '3062.65'}]\n"
     ]
    },
    {
     "data": {
      "image/png": "[encoded data removed]",
      "text/plain": [
       "<Figure size 432x288 with 1 Axes>"
      ]
     },
     "metadata": {
      "needs_background": "light"
     },
     "output_type": "display_data"
    },
    {
     "data": {
      "image/png": "[encoded data removed]",
      "text/plain": [
       "<Figure size 432x288 with 1 Axes>"
      ]
     },
     "metadata": {
      "needs_background": "light"
     },
     "output_type": "display_data"
    },
    {
     "data": {
      "image/png": "[encoded data removed]",
      "text/plain": [
       "<Figure size 432x288 with 1 Axes>"
      ]
     },
     "metadata": {
      "needs_background": "light"
     },
     "output_type": "display_data"
    }
   ],
   "source": [
    "# Plotting:\n",
    "\n",
    "%matplotlib inline\n",
    "import matplotlib.pyplot as plt\n",
    "from matplotlib import ticker\n",
    "\n",
    "# TODO: add latency for pingpong\n",
    "\n",
    "def sizeof_fmt(num, suffix='B'):\n",
    "    # from https://stackoverflow.com/a/1094933/916373\n",
    "    for unit in ['','Ki','Mi','Gi','Ti','Pi','Ei','Zi']:\n",
    "        if abs(num) < 1024.0:\n",
    "            return \"%3.1f%s%s\" % (num, unit, suffix)\n",
    "        num /= 1024.0\n",
    "    return \"%.1f%s%s\" % (num, 'Yi', suffix)\n",
    "\n",
    "\n",
    "# TODO: can we derive this from the test metrics somehow??\n",
    "PLOTS = [\n",
    "    {\n",
    "        'test':'IMB_PingPong',\n",
    "        'xaxis':'#bytes',\n",
    "        'yaxis':'Mbytes/sec',\n",
    "        'metric':'bandwidth',\n",
    "    },\n",
    "    {\n",
    "        'test':'IMB_PingPong',\n",
    "        'xaxis':'#bytes',\n",
    "        'yaxis':'t[usec]',\n",
    "        'metric':'latency',\n",
    "    },\n",
    "    {\n",
    "        'test':'IMB_Uniband',\n",
    "        'xaxis':'#bytes',\n",
    "        'yaxis':'Mbytes/sec',\n",
    "        'metric':'bandwidth',\n",
    "    },\n",
    "    \n",
    "    \n",
    "]\n",
    "\n",
    "for plot in PLOTS:\n",
    "    cases = test_results[plot['test']]\n",
    "    print(plot['test'], ':')\n",
    "    common, differences = diff_meta(cases)\n",
    "    plt.figure()\n",
    "    #perf_records = get_perflogs(test=plot['test']) # TODO: should we have a meta: field for these too?\n",
    "    print(perf_records)\n",
    "    for ix, case in enumerate(cases):\n",
    "        data = case['data']\n",
    "        unique_meta = differences[ix]\n",
    "        label = '-'.join(list(unique_meta.values()))\n",
    "        plt.plot(data[plot['xaxis']], data[plot['yaxis']], 'o-', label=label)\n",
    "        plt.grid()\n",
    "        plt.title('%s: %s' % (plot['test'], plot['metric']))\n",
    "        plt.legend()\n",
    "        plt.grid()\n",
    "        ax = plt.gca()\n",
    "        ax.set_xscale('log', basex=2)\n",
    "        ax.xaxis.set_major_formatter(ticker.FuncFormatter(lambda x, pos: sizeof_fmt(x)))\n",
    "        plt.xlabel(plot['xaxis'])\n",
    "        plt.ylabel(plot['yaxis'])\n",
    "    \n",
    "# #   latency:\n",
    "# plt.figure()\n",
    "# #perf_records = get_perflogs(test='IMB_PingPong')\n",
    "# for ix, case in enumerate(cases):\n",
    "#     data = case['data']\n",
    "#     unique_meta = differences[ix]\n",
    "#     label = '-'.join(list(unique_meta.values()))\n",
    "#     plt.plot(data['#bytes'], data['t[usec]'], 'o-', label=label)\n",
    "\n",
    "#     plt.grid()\n",
    "#     plt.title('IMB_PingPong: latency')\n",
    "#     plt.legend()\n",
    "#     ax = plt.gca()\n",
    "#     ax.set_xscale('log', basex=2)\n",
    "#     ax.xaxis.set_major_formatter(ticker.FuncFormatter(lambda x, pos: sizeof_fmt(x)))\n",
    "#     plt.xlabel('#bytes')\n",
    "#     plt.ylabel('t[usec]')\n",
    "    \n",
    "\n",
    "\n",
    "# for test, cases in test_results.items():\n",
    "#     print(test, ':')\n",
    "#     common, differences = diff_meta(cases)\n",
    "#     plt.figure()\n",
    "#     perf_records = get_perflogs(test=test)\n",
    "#     for record in perf_records:\n",
    "#         print(record)\n",
    "#     for ix, case in enumerate(cases):\n",
    "#         data = case['data']\n",
    "#         unique_meta = differences[ix]\n",
    "#         label = '-'.join(list(unique_meta.values()))\n",
    "#         plt.plot(data['#bytes'], data['Mbytes/sec'], 'o-', label=label)\n",
    "        \n",
    "#         plt.grid()\n",
    "#         plt.title(test)\n",
    "#         plt.legend()\n",
    "#         ax = plt.gca()\n",
    "#         ax.set_xscale('log', basex=2)\n",
    "#         ax.xaxis.set_major_formatter(ticker.FuncFormatter(lambda x, pos: sizeof_fmt(x)))\n",
    "#         plt.xlabel('#bytes')\n",
    "#         plt.ylabel('Mbytes/sec')\n",
    "#     print('====')\n",
    "        \n",
    "        "
   ]
  },
  {
   "cell_type": "code",
   "execution_count": null,
   "metadata": {},
   "outputs": [],
   "source": []
  }
 ],
 "metadata": {
  "kernelspec": {
   "display_name": "Python 3",
   "language": "python",
   "name": "python3"
  },
  "language_info": {
   "codemirror_mode": {
    "name": "ipython",
    "version": 3
   },
   "file_extension": ".py",
   "mimetype": "text/x-python",
   "name": "python",
   "nbconvert_exporter": "python",
   "pygments_lexer": "ipython3",
   "version": "3.7.7"
  }
 },
 "nbformat": 4,
 "nbformat_minor": 2
}
