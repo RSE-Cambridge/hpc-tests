{
 "cells": [
  {
   "cell_type": "code",
   "execution_count": 1,
   "metadata": {},
   "outputs": [],
   "source": [
    "from pprint import pprint\n",
    "import os, json, sys\n",
    "\n",
    "# import reframe test script:\n",
    "sys.path.append('../reframe') # so that next line can find reframe itself ...\n",
    "import reframe_imb"
   ]
  },
  {
   "cell_type": "code",
   "execution_count": 3,
   "metadata": {},
   "outputs": [
    {
     "name": "stdout",
     "output_type": "stream",
     "text": [
      "['../output/alaska/compute-ib/gnu-openmpi/IMB_PingPong/rfm_IMB_PingPong_job.out', '../output/alaska/compute-ib/gnu-openmpi/IMB_Uniband/rfm_IMB_Uniband_job.out', '../output/alaska/compute-roce/gnu-openmpi/IMB_PingPong/rfm_IMB_PingPong_job.out', '../output/alaska/compute-roce/gnu-openmpi/IMB_Uniband/rfm_IMB_Uniband_job.out']\n"
     ]
    }
   ],
   "source": [
    "# find output files for this test:\n",
    "def find_run_outputs(root='.', test=None, ext='.out'):\n",
    "    \"\"\" Find test files within an output tree.\n",
    "    \n",
    "        Args:\n",
    "            root: path to start searching from\n",
    "            test: str, limit results to directories which contain this string (default: all)\n",
    "            ext: str, limit results to files with this extension\n",
    "        \n",
    "        Returns a sequence of str paths.\n",
    "    \"\"\"\n",
    "    \n",
    "    # directory is soemthing like:\n",
    "    # ../output/sausage-newslurm/compute/gnu8-openmpi3/IMB_MPI1Test/\n",
    "    \n",
    "    # TODO: use reframe/reframe/frontend/cli.py code to get the current system, something like\n",
    "    # import reframe\n",
    "    # import reframe.core.config as config\n",
    "    # import reframe.core.runtime as runtime\n",
    "    # import os\n",
    "\n",
    "    # # assume default location!\n",
    "    # print(reframe.INSTALL_PREFIX)\n",
    "    # config_file = os.path.join(reframe.INSTALL_PREFIX, 'reframe/settings.py')\n",
    "    # settings = config.load_settings_from_file(config_file)\n",
    "    # runtime.init_runtime(settings.site_configuration, options.system,\n",
    "    #                              non_default_craype=options.non_default_craype)\n",
    "    \n",
    "    results = []\n",
    "    for (dirpath, dirnames, filenames) in os.walk(root):\n",
    "        # in-place filter dirnames to avoid hidden directories:\n",
    "        for idx, d in enumerate(dirnames):\n",
    "            if d.startswith('.'):\n",
    "                del dirnames[idx]\n",
    "        for f in filenames:\n",
    "            if os.path.splitext(f)[-1] == ext:\n",
    "                path = os.path.join(dirpath, f)\n",
    "                testdir = os.path.basename(os.path.dirname(path))\n",
    "                if test is None or test in testdir:\n",
    "                    results.append(path)\n",
    "    return(results)\n",
    "                \n",
    "run_outputs = find_run_outputs('../output', 'IMB')\n",
    "print(run_outputs)"
   ]
  },
  {
   "cell_type": "code",
   "execution_count": 18,
   "metadata": {},
   "outputs": [
    {
     "name": "stdout",
     "output_type": "stream",
     "text": [
      "read ../output/alaska/compute-ib/gnu-openmpi/IMB_PingPong/rfm_IMB_PingPong_job.out\n",
      "{'benchmark': 'pingpong',\n",
      " 'environ': 'gnu-openmpi',\n",
      " 'filename': 'rfm_IMB_PingPong_job.out',\n",
      " 'partition': 'compute-ib',\n",
      " 'path': '../output/alaska/compute-ib/gnu-openmpi/IMB_PingPong/rfm_IMB_PingPong_job.out',\n",
      " 'processes': 2,\n",
      " 'sysname': 'alaska',\n",
      " 'testname': 'IMB_PingPong'}\n",
      "read ../output/alaska/compute-ib/gnu-openmpi/IMB_Uniband/rfm_IMB_Uniband_job.out\n",
      "{'benchmark': 'uniband',\n",
      " 'environ': 'gnu-openmpi',\n",
      " 'filename': 'rfm_IMB_Uniband_job.out',\n",
      " 'partition': 'compute-ib',\n",
      " 'path': '../output/alaska/compute-ib/gnu-openmpi/IMB_Uniband/rfm_IMB_Uniband_job.out',\n",
      " 'processes': 2,\n",
      " 'sysname': 'alaska',\n",
      " 'testname': 'IMB_Uniband'}\n",
      "read ../output/alaska/compute-roce/gnu-openmpi/IMB_PingPong/rfm_IMB_PingPong_job.out\n",
      "{'benchmark': 'pingpong',\n",
      " 'environ': 'gnu-openmpi',\n",
      " 'filename': 'rfm_IMB_PingPong_job.out',\n",
      " 'partition': 'compute-roce',\n",
      " 'path': '../output/alaska/compute-roce/gnu-openmpi/IMB_PingPong/rfm_IMB_PingPong_job.out',\n",
      " 'processes': 2,\n",
      " 'sysname': 'alaska',\n",
      " 'testname': 'IMB_PingPong'}\n",
      "read ../output/alaska/compute-roce/gnu-openmpi/IMB_Uniband/rfm_IMB_Uniband_job.out\n",
      "{'benchmark': 'uniband',\n",
      " 'environ': 'gnu-openmpi',\n",
      " 'filename': 'rfm_IMB_Uniband_job.out',\n",
      " 'partition': 'compute-roce',\n",
      " 'path': '../output/alaska/compute-roce/gnu-openmpi/IMB_Uniband/rfm_IMB_Uniband_job.out',\n",
      " 'processes': 2,\n",
      " 'sysname': 'alaska',\n",
      " 'testname': 'IMB_Uniband'}\n"
     ]
    }
   ],
   "source": [
    "# load results using the same function that we use for reframe performance tests:\n",
    "# TODO: add groupby= based off metadata?\n",
    "results = []\n",
    "for path in run_outputs:\n",
    "    result = reframe_imb.read_imb_out(path)\n",
    "    results.append(result)\n",
    "    print('read', path)\n",
    "    pprint(result['meta'])"
   ]
  },
  {
   "cell_type": "code",
   "execution_count": 22,
   "metadata": {},
   "outputs": [
    {
     "name": "stdout",
     "output_type": "stream",
     "text": [
      "IMB_PingPong :\n",
      "   rfm_IMB_PingPong_job.out\n",
      "   rfm_IMB_PingPong_job.out\n",
      "IMB_Uniband :\n",
      "   rfm_IMB_Uniband_job.out\n",
      "   rfm_IMB_Uniband_job.out\n"
     ]
    }
   ],
   "source": [
    "# Group results by *testname*\n",
    "\n",
    "test_results = {} # key: test name\n",
    "\n",
    "for result in results:\n",
    "    testname = result['meta']['testname']\n",
    "    cases = test_results.setdefault(testname, [])\n",
    "    cases.append(result)\n",
    "\n",
    "for test, cases in test_results.items():\n",
    "    print(test, ':')\n",
    "    for c in cases:\n",
    "        print('  ', c['meta']['filename'])\n",
    "        #pprint(c['meta'])"
   ]
  },
  {
   "cell_type": "code",
   "execution_count": 23,
   "metadata": {},
   "outputs": [
    {
     "name": "stdout",
     "output_type": "stream",
     "text": [
      "common:\n",
      "{'benchmark': 'pingpong',\n",
      " 'environ': 'gnu-openmpi',\n",
      " 'filename': 'rfm_IMB_PingPong_job.out',\n",
      " 'processes': 2,\n",
      " 'sysname': 'alaska',\n",
      " 'testname': 'IMB_PingPong'}\n",
      "differences:\n",
      "[{'partition': 'compute-ib'}, {'partition': 'compute-roce'}]\n"
     ]
    }
   ],
   "source": [
    "def diff_meta(results, ignore=['path']):\n",
    "    \"\"\" Given a sequence of results dicts, returns\n",
    "            \n",
    "            common, [difference1, difference2, ...]\n",
    "        \n",
    "        where each of these are dicts based on the ['meta'] properties of each result dict\n",
    "        ignoring given keys\n",
    "        \n",
    "        TODO: describe this properly\n",
    "    \"\"\"\n",
    "    \n",
    "    meta = [r['meta'].copy() for r in results]\n",
    "    \n",
    "    for key in ignore:\n",
    "        for m in meta:\n",
    "            m.pop(key, None)\n",
    "    keyvals = [set(zip(m.keys(), m.values())) for m in meta]\n",
    "    common = keyvals[0].intersection(*keyvals[1:])\n",
    "    differences = [dict(b.difference(common)) for b in keyvals]\n",
    "    return dict(common), differences\n",
    "                   \n",
    "# tests:                   \n",
    "c, d = diff_meta(test_results['IMB_PingPong'])\n",
    "print('common:')\n",
    "pprint(c)\n",
    "print('differences:')\n",
    "pprint(d)\n"
   ]
  },
  {
   "cell_type": "code",
   "execution_count": 24,
   "metadata": {},
   "outputs": [
    {
     "name": "stdout",
     "output_type": "stream",
     "text": [
      "IMB_PingPong :\n",
      "dict_keys(['#bytes', '#repetitions', 't[usec]', 'Mbytes/sec'])\n",
      "dict_keys(['#bytes', '#repetitions', 't[usec]', 'Mbytes/sec'])\n",
      "IMB_Uniband :\n",
      "dict_keys(['#bytes', '#repetitions', 'Mbytes/sec', 'Msg/sec'])\n",
      "dict_keys(['#bytes', '#repetitions', 'Mbytes/sec', 'Msg/sec'])\n"
     ]
    },
    {
     "data": {
      "image/png": "[encoded data removed]",
      "text/plain": [
       "<Figure size 432x288 with 1 Axes>"
      ]
     },
     "metadata": {
      "needs_background": "light"
     },
     "output_type": "display_data"
    },
    {
     "data": {
      "image/png": "[encoded data removed]",
      "text/plain": [
       "<Figure size 432x288 with 1 Axes>"
      ]
     },
     "metadata": {
      "needs_background": "light"
     },
     "output_type": "display_data"
    }
   ],
   "source": [
    "# Plotting:\n",
    "# TODO: generate one plot per TEST, with a-vs-b comparisons for all cases of that test\n",
    "\n",
    "%matplotlib inline\n",
    "import matplotlib.pyplot as plt\n",
    "from matplotlib import ticker\n",
    "\n",
    "# TODO: add latency for pingpong\n",
    "\n",
    "def sizeof_fmt(num, suffix='B'):\n",
    "    # from https://stackoverflow.com/a/1094933/916373\n",
    "    for unit in ['','Ki','Mi','Gi','Ti','Pi','Ei','Zi']:\n",
    "        if abs(num) < 1024.0:\n",
    "            return \"%3.1f%s%s\" % (num, unit, suffix)\n",
    "        num /= 1024.0\n",
    "    return \"%.1f%s%s\" % (num, 'Yi', suffix)\n",
    "\n",
    "\n",
    "for test, cases in test_results.items():\n",
    "    print(test, ':')\n",
    "    common, differences = diff_meta(cases)\n",
    "    plt.figure()\n",
    "    for ix, case in enumerate(cases):\n",
    "        data = case['data']\n",
    "        unique_meta = differences[ix]\n",
    "        label = '-'.join(list(unique_meta.values()))\n",
    "        print(data.keys())\n",
    "        plt.plot(data['#bytes'], data['Mbytes/sec'], 'o-', label=label)\n",
    "        \n",
    "        plt.grid()\n",
    "        plt.title(test)\n",
    "        plt.legend()\n",
    "        ax = plt.gca()\n",
    "        ax.set_xscale('log', basex=2)\n",
    "        ax.xaxis.set_major_formatter(ticker.FuncFormatter(lambda x, pos: sizeof_fmt(x)))\n",
    "        plt.xlabel('#bytes')\n",
    "        plt.ylabel('Mbytes/sec')"
   ]
  },
  {
   "cell_type": "code",
   "execution_count": null,
   "metadata": {},
   "outputs": [],
   "source": []
  },
  {
   "cell_type": "code",
   "execution_count": null,
   "metadata": {},
   "outputs": [],
   "source": []
  }
 ],
 "metadata": {
  "kernelspec": {
   "display_name": "Python 3",
   "language": "python",
   "name": "python3"
  },
  "language_info": {
   "codemirror_mode": {
    "name": "ipython",
    "version": 3
   },
   "file_extension": ".py",
   "mimetype": "text/x-python",
   "name": "python",
   "nbconvert_exporter": "python",
   "pygments_lexer": "ipython3",
   "version": "3.7.7"
  }
 },
 "nbformat": 4,
 "nbformat_minor": 2
}
