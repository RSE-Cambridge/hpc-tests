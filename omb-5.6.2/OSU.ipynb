{
 "cells": [
  {
   "cell_type": "markdown",
   "metadata": {},
   "source": [
    "# Read results files"
   ]
  },
  {
   "cell_type": "code",
   "execution_count": 1,
   "metadata": {},
   "outputs": [],
   "source": [
    "import os, json\n",
    "from pprint import pprint"
   ]
  },
  {
   "cell_type": "code",
   "execution_count": 13,
   "metadata": {},
   "outputs": [
    {
     "name": "stdout",
     "output_type": "stream",
     "text": [
      "{'Bandwidth (MB/s)': [0.08,\n",
      "                      0.14,\n",
      "                      0.36,\n",
      "                      0.64,\n",
      "                      1.1,\n",
      "                      2.41,\n",
      "                      5.11,\n",
      "                      9.24,\n",
      "                      18.0,\n",
      "                      36.3,\n",
      "                      68.07,\n",
      "                      89.76,\n",
      "                      242.34,\n",
      "                      345.77,\n",
      "                      549.81,\n",
      "                      716.51,\n",
      "                      670.2,\n",
      "                      804.83,\n",
      "                      929.86,\n",
      "                      994.15,\n",
      "                      917.13,\n",
      "                      880.87,\n",
      "                      896.06],\n",
      " 'Size': [1,\n",
      "          2,\n",
      "          4,\n",
      "          8,\n",
      "          16,\n",
      "          32,\n",
      "          64,\n",
      "          128,\n",
      "          256,\n",
      "          512,\n",
      "          1024,\n",
      "          2048,\n",
      "          4096,\n",
      "          8192,\n",
      "          16384,\n",
      "          32768,\n",
      "          65536,\n",
      "          131072,\n",
      "          262144,\n",
      "          524288,\n",
      "          1048576,\n",
      "          2097152,\n",
      "          4194304]}\n"
     ]
    }
   ],
   "source": [
    "def read_table(fileobj, labels=None, col_types=None):\n",
    "    \"\"\" Read a space-separated table from a file object.\n",
    "    \n",
    "        Args:\n",
    "            TODO\n",
    "        If `labels` is None assumes next(fileobj) will return a space-separated header starting '#'.\n",
    "        Otherwise `labels` should be a sequence of column headers and next(fileobj) should return the first data line.\n",
    "        Subsequent data lines are space-separated columns.\n",
    "        If col_types is a sequence of callables these will be applied to column data (e.g. for type conversion).\n",
    "    \"\"\"\n",
    "    \n",
    "    table = {}\n",
    "    if labels is None:\n",
    "        # read header line next:\n",
    "        header = next(fileobj)\n",
    "        if not header.startswith('#'):\n",
    "            raise ValueError('expected header row starting \"#\", got %s' % header)\n",
    "        labels = header.split(None, len(col_types) if col_types is not None else -1)\n",
    "    for label in labels:\n",
    "        table[label] = []\n",
    "    if col_types is None:\n",
    "        noop = lambda v: v\n",
    "        col_types = [noop for label in table.keys()]\n",
    "    while True:\n",
    "        try:\n",
    "            line = next(fileobj)\n",
    "            cols = line.split(None, len(labels))\n",
    "            if cols == []:\n",
    "                break\n",
    "            else:\n",
    "                for label, opr, value in zip(labels, col_types, cols):\n",
    "                    table[label].append(opr(value))\n",
    "        except StopIteration:\n",
    "            break\n",
    "    return table\n",
    "\n",
    "def read_osu_out(path):\n",
    "    with open(path) as f:\n",
    "        for line in f:\n",
    "            if line.startswith('# OSU MPI Bandwidth Test v5.6.2'):\n",
    "                # ditch header line\n",
    "                _ = next(f)\n",
    "                data = read_table(f, ('Size', 'Bandwidth (MB/s)'), (int, float))\n",
    "                return data\n",
    "\n",
    "results = read_osu_out('sausage-hotdog/gnu8-openmpi3/runs/N2npn1/slurm-17.out')\n",
    "pprint(results)"
   ]
  },
  {
   "cell_type": "code",
   "execution_count": 15,
   "metadata": {},
   "outputs": [
    {
     "data": {
      "text/plain": [
       "Text(0,0.5,'Bandwidth (MB/s)')"
      ]
     },
     "execution_count": 15,
     "metadata": {},
     "output_type": "execute_result"
    },
    {
     "data": {
      "image/png": "[encoded data removed]",
      "text/plain": [
       "<Figure size 432x288 with 1 Axes>"
      ]
     },
     "metadata": {
      "needs_background": "light"
     },
     "output_type": "display_data"
    }
   ],
   "source": [
    "%matplotlib inline\n",
    "import matplotlib.pyplot as plt\n",
    "plt.plot(results['Size'], results['Bandwidth (MB/s)'])\n",
    "plt.grid()\n",
    "plt.title('OSU')\n",
    "plt.legend()\n",
    "plt.xscale('log')\n",
    "plt.xlabel('Size')\n",
    "plt.ylabel('Bandwidth (MB/s)')"
   ]
  },
  {
   "cell_type": "code",
   "execution_count": null,
   "metadata": {},
   "outputs": [],
   "source": []
  }
 ],
 "metadata": {
  "kernelspec": {
   "display_name": "Python 2",
   "language": "python",
   "name": "python2"
  },
  "language_info": {
   "codemirror_mode": {
    "name": "ipython",
    "version": 2
   },
   "file_extension": ".py",
   "mimetype": "text/x-python",
   "name": "python",
   "nbconvert_exporter": "python",
   "pygments_lexer": "ipython2",
   "version": "2.7.18"
  }
 },
 "nbformat": 4,
 "nbformat_minor": 2
}
