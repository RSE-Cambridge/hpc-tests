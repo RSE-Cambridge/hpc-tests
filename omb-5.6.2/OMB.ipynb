{
 "cells": [
  {
   "cell_type": "code",
   "execution_count": 1,
   "metadata": {},
   "outputs": [],
   "source": [
    "from pprint import pprint\n",
    "import os, json, sys\n",
    "\n",
    "# import reframe test script:\n",
    "sys.path.append('../reframe') # so that next line can find reframe itself ...\n",
    "import reframe_omb"
   ]
  },
  {
   "cell_type": "code",
   "execution_count": 2,
   "metadata": {},
   "outputs": [
    {
     "name": "stdout",
     "output_type": "stream",
     "text": [
      "['../output/sausage-newslurm/compute/gnu8-openmpi3/OMB_BWTest/rfm_OMB_BWTest_job.out']\n"
     ]
    }
   ],
   "source": [
    "# find output files for this test:\n",
    "\n",
    "def find_run_outputs(root='.', test=None, ext='.out'):\n",
    "    \"\"\" Find files with a given extension within any output directory.\n",
    "    \n",
    "        Returns a sequence of paths.\n",
    "    \"\"\"\n",
    "    \n",
    "    # directory is soemthing like:\n",
    "    # ../output/sausage-newslurm/compute/gnu8-openmpi3/IMB_MPI1Test/\n",
    "    \n",
    "    # TODO: use reframe/reframe/frontend/cli.py code to get the current system, something like\n",
    "    # import reframe\n",
    "    # import reframe.core.config as config\n",
    "    # import reframe.core.runtime as runtime\n",
    "    # import os\n",
    "\n",
    "    # # assume default location!\n",
    "    # print(reframe.INSTALL_PREFIX)\n",
    "    # config_file = os.path.join(reframe.INSTALL_PREFIX, 'reframe/settings.py')\n",
    "    # settings = config.load_settings_from_file(config_file)\n",
    "    # runtime.init_runtime(settings.site_configuration, options.system,\n",
    "    #                              non_default_craype=options.non_default_craype)\n",
    "    \n",
    "    results = []\n",
    "    for (dirpath, dirnames, filenames) in os.walk(root):\n",
    "        # in-place filter dirnames to avoid hidden directories:\n",
    "        for idx, d in enumerate(dirnames):\n",
    "            if d.startswith('.'):\n",
    "                del dirnames[idx]\n",
    "        for f in filenames:\n",
    "            if os.path.splitext(f)[-1] == ext:\n",
    "                path = os.path.join(dirpath, f)\n",
    "                testdir = os.path.basename(os.path.dirname(path))\n",
    "                if test is None or test in testdir:\n",
    "                    results.append(path)\n",
    "    return(results)\n",
    "                \n",
    "run_outputs = find_run_outputs('../output', 'OMB')\n",
    "print(run_outputs)"
   ]
  },
  {
   "cell_type": "code",
   "execution_count": 3,
   "metadata": {},
   "outputs": [
    {
     "name": "stdout",
     "output_type": "stream",
     "text": [
      "read ../output/sausage-newslurm/compute/gnu8-openmpi3/OMB_BWTest/rfm_OMB_BWTest_job.out\n"
     ]
    }
   ],
   "source": [
    "# load results using the same function that we use for reframe performance tests:\n",
    "\n",
    "results = []\n",
    "for path in run_outputs:\n",
    "    print('read', path)\n",
    "    result = reframe_omb.read_omb_bw_out(path)\n",
    "    results.append(result)"
   ]
  },
  {
   "cell_type": "code",
   "execution_count": 4,
   "metadata": {},
   "outputs": [
    {
     "name": "stdout",
     "output_type": "stream",
     "text": [
      "[{'data': {'bandwidth': [0.05,\n",
      "                         0.15,\n",
      "                         0.21,\n",
      "                         0.34,\n",
      "                         1.18,\n",
      "                         2.46,\n",
      "                         3.18,\n",
      "                         9.23,\n",
      "                         17.8,\n",
      "                         30.58,\n",
      "                         54.85,\n",
      "                         118.54,\n",
      "                         246.66,\n",
      "                         385.03,\n",
      "                         503.25,\n",
      "                         580.76,\n",
      "                         649.38,\n",
      "                         815.36,\n",
      "                         858.51,\n",
      "                         947.21,\n",
      "                         885.61,\n",
      "                         920.81,\n",
      "                         931.85],\n",
      "           'size': [1,\n",
      "                    2,\n",
      "                    4,\n",
      "                    8,\n",
      "                    16,\n",
      "                    32,\n",
      "                    64,\n",
      "                    128,\n",
      "                    256,\n",
      "                    512,\n",
      "                    1024,\n",
      "                    2048,\n",
      "                    4096,\n",
      "                    8192,\n",
      "                    16384,\n",
      "                    32768,\n",
      "                    65536,\n",
      "                    131072,\n",
      "                    262144,\n",
      "                    524288,\n",
      "                    1048576,\n",
      "                    2097152,\n",
      "                    4194304]},\n",
      "  'file': '../output/sausage-newslurm/compute/gnu8-openmpi3/OMB_BWTest/rfm_OMB_BWTest_job.out',\n",
      "  'meta': {'environ': 'gnu8-openmpi3',\n",
      "           'filename': 'rfm_OMB_BWTest_job.out',\n",
      "           'partition': 'compute',\n",
      "           'sysname': 'sausage-newslurm',\n",
      "           'testname': 'OMB_BWTest'}}]\n"
     ]
    }
   ],
   "source": [
    "# add metadata to results:\n",
    "\n",
    "def parse_path(path):\n",
    "    \"\"\" Return reframe info from a results path \"\"\"\n",
    "    parts = path.split(os.path.sep)\n",
    "    #sysname, partition, environ, testname, filename = parts[-5:]\n",
    "    COMPONENTS = ('sysname', 'partition', 'environ', 'testname', 'filename')\n",
    "    info = dict(zip(COMPONENTS, parts[-5:]))\n",
    "    return info    \n",
    "    \n",
    "for run in results:\n",
    "    run['meta'] = parse_path(run['file'])\n",
    "\n",
    "pprint(results)"
   ]
  },
  {
   "cell_type": "code",
   "execution_count": 16,
   "metadata": {},
   "outputs": [
    {
     "data": {
      "text/plain": [
       "Text(0, 0.5, 'MB/s')"
      ]
     },
     "execution_count": 16,
     "metadata": {},
     "output_type": "execute_result"
    },
    {
     "data": {
      "image/png": "[encoded data removed]",
      "text/plain": [
       "<Figure size 432x288 with 1 Axes>"
      ]
     },
     "metadata": {
      "needs_background": "light"
     },
     "output_type": "display_data"
    }
   ],
   "source": [
    "# Plotting\n",
    "\n",
    "%matplotlib inline\n",
    "import matplotlib.pyplot as plt\n",
    "\n",
    "for run in results:\n",
    "    data = run['data']\n",
    "    label = '-'.join(list(run['meta'].values()))\n",
    "    plt.plot(data['size'], data['bandwidth'], 'o-', label=label)\n",
    "plt.grid()\n",
    "plt.title('IMB')\n",
    "plt.legend()\n",
    "plt.xscale('log')\n",
    "plt.xlabel('size')\n",
    "plt.ylabel('MB/s')"
   ]
  },
  {
   "cell_type": "code",
   "execution_count": null,
   "metadata": {},
   "outputs": [],
   "source": []
  },
  {
   "cell_type": "code",
   "execution_count": null,
   "metadata": {},
   "outputs": [],
   "source": []
  }
 ],
 "metadata": {
  "kernelspec": {
   "display_name": "Python 3",
   "language": "python",
   "name": "python3"
  },
  "language_info": {
   "codemirror_mode": {
    "name": "ipython",
    "version": 3
   },
   "file_extension": ".py",
   "mimetype": "text/x-python",
   "name": "python",
   "nbconvert_exporter": "python",
   "pygments_lexer": "ipython3",
   "version": "3.8.2"
  }
 },
 "nbformat": 4,
 "nbformat_minor": 2
}
