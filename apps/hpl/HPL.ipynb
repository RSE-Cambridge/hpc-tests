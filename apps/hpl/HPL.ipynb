{
 "cells": [
  {
   "cell_type": "markdown",
   "metadata": {},
   "source": [
    "# High Performance Linpack\n",
    "\n",
    "Results from running the [standard](https://www.netlib.org/benchmark/hpl/) and [Intel](https://software.intel.com/content/www/us/en/develop/documentation/mkl-windows-developer-guide/top/intel-math-kernel-library-benchmarks/intel-distribution-for-linpack-benchmark/overview-of-the-intel-distribution-for-linpack-benchmark.html) versions of the High Performance Linkpack benchmarks."
   ]
  },
  {
   "cell_type": "code",
   "execution_count": 1,
   "metadata": {},
   "outputs": [],
   "source": [
    "# Plotting setup\n",
    "%matplotlib inline\n",
    "import matplotlib.pyplot as plt\n",
    "from matplotlib import ticker\n",
    "from IPython.display import display, HTML\n",
    "\n",
    "import pandas as pd\n",
    "import os, sys\n",
    "from pprint import pprint\n",
    "sys.path.extend(('../../reframe', '../../')) # the `modules` package imports `reframe` so need that in sys.modules\n",
    "import modules"
   ]
  },
  {
   "cell_type": "markdown",
   "metadata": {},
   "source": [
    "# Performance vs number of nodes\n",
    "Each benchmark is run on both a single node and all nodes. Each run uses as many mpi tasks (processes) per node as there are physical cores.\n",
    "\n",
    "The plots show results for the most-recent run on each system/partition/environment combination. They show the Gflops/s vs. the number of nodes used for each run. Higher values are better performance."
   ]
  },
  {
   "cell_type": "code",
   "execution_count": 2,
   "metadata": {},
   "outputs": [
    {
     "name": "stdout",
     "output_type": "stream",
     "text": [
      "Hpl_single:\n"
     ]
    },
    {
     "ename": "AttributeError",
     "evalue": "'NoneType' object has no attribute 'to_html'",
     "output_type": "error",
     "traceback": [
      "\u001b[0;31m---------------------------------------------------------------------------\u001b[0m",
      "\u001b[0;31mAttributeError\u001b[0m                            Traceback (most recent call last)",
      "\u001b[0;32m<ipython-input-2-bde94bb7ff58>\u001b[0m in \u001b[0;36m<module>\u001b[0;34m\u001b[0m\n\u001b[1;32m      2\u001b[0m     \u001b[0mdf\u001b[0m \u001b[0;34m=\u001b[0m \u001b[0mmodules\u001b[0m\u001b[0;34m.\u001b[0m\u001b[0mutils\u001b[0m\u001b[0;34m.\u001b[0m\u001b[0mtabulate_last_perf\u001b[0m\u001b[0;34m(\u001b[0m\u001b[0mtest\u001b[0m\u001b[0;34m,\u001b[0m \u001b[0;34m'num_nodes'\u001b[0m\u001b[0;34m,\u001b[0m \u001b[0;34m'Gflops'\u001b[0m\u001b[0;34m)\u001b[0m\u001b[0;34m\u001b[0m\u001b[0;34m\u001b[0m\u001b[0m\n\u001b[1;32m      3\u001b[0m     \u001b[0mprint\u001b[0m\u001b[0;34m(\u001b[0m\u001b[0;34m'%s:'\u001b[0m \u001b[0;34m%\u001b[0m \u001b[0mtest\u001b[0m\u001b[0;34m)\u001b[0m\u001b[0;34m\u001b[0m\u001b[0;34m\u001b[0m\u001b[0m\n\u001b[0;32m----> 4\u001b[0;31m     \u001b[0mdisplay\u001b[0m\u001b[0;34m(\u001b[0m\u001b[0mHTML\u001b[0m\u001b[0;34m(\u001b[0m\u001b[0mdf\u001b[0m\u001b[0;34m.\u001b[0m\u001b[0mto_html\u001b[0m\u001b[0;34m(\u001b[0m\u001b[0;34m)\u001b[0m\u001b[0;34m)\u001b[0m\u001b[0;34m)\u001b[0m\u001b[0;34m\u001b[0m\u001b[0;34m\u001b[0m\u001b[0m\n\u001b[0m\u001b[1;32m      5\u001b[0m     \u001b[0max\u001b[0m \u001b[0;34m=\u001b[0m \u001b[0mdf\u001b[0m\u001b[0;34m.\u001b[0m\u001b[0mplot\u001b[0m\u001b[0;34m(\u001b[0m\u001b[0mgrid\u001b[0m\u001b[0;34m=\u001b[0m\u001b[0;32mTrue\u001b[0m\u001b[0;34m,\u001b[0m \u001b[0mstyle\u001b[0m\u001b[0;34m=\u001b[0m\u001b[0;34m'o-'\u001b[0m\u001b[0;34m)\u001b[0m\u001b[0;34m\u001b[0m\u001b[0;34m\u001b[0m\u001b[0m\n\u001b[1;32m      6\u001b[0m     \u001b[0max\u001b[0m\u001b[0;34m.\u001b[0m\u001b[0mset_xlabel\u001b[0m\u001b[0;34m(\u001b[0m\u001b[0;34m'number of nodes'\u001b[0m\u001b[0;34m)\u001b[0m\u001b[0;34m\u001b[0m\u001b[0;34m\u001b[0m\u001b[0m\n",
      "\u001b[0;31mAttributeError\u001b[0m: 'NoneType' object has no attribute 'to_html'"
     ]
    }
   ],
   "source": [
    "for test in ['Hpl_single', 'Hpl_all']:\n",
    "    df = modules.utils.tabulate_last_perf(test, 'num_nodes', 'Gflops')\n",
    "    print('%s:' % test)\n",
    "    display(HTML(df.to_html()))\n",
    "    ax = df.plot(grid=True, style='o-')\n",
    "    ax.set_xlabel('number of nodes')\n",
    "    ax.set_ylabel('Gflop/s')\n",
    "    ax.set_title(test)\n",
    "    plt.tight_layout()"
   ]
  },
  {
   "cell_type": "markdown",
   "metadata": {},
   "source": [
    "# Performance History\n",
    "\n",
    "The plot below shows the Gflop/s history with a series for each system/partition/environment combination. Where performance logs include a git reference (as a tag `\"git=<ref>\"`) this is used to annotate the data point."
   ]
  },
  {
   "cell_type": "code",
   "execution_count": 3,
   "metadata": {},
   "outputs": [
    {
     "name": "stdout",
     "output_type": "stream",
     "text": [
      "Hpl_single: no performance logs found\n",
      "Hpl_all: no performance logs found\n"
     ]
    }
   ],
   "source": [
    "for test in ['Hpl_single', 'Hpl_all']:\n",
    "    perf_records = modules.utils.load_perf_logs('../../perflogs', test, '.log')\n",
    "    if perf_records is None:\n",
    "        print('%s: no performance logs found' % test)\n",
    "        continue\n",
    "    fig, ax = plt.subplots(nrows=1, ncols=1)\n",
    "    for spe, data in perf_records.groupby(['sysname', 'partition', 'environ']):\n",
    "        # filter to only Gflops records (might have others)\n",
    "        data = data.loc[data['perf_var'] == 'Gflops']\n",
    "        data.plot(ax=ax, x='completion_time', y='perf_value', style=['o-'], label='-'.join(spe))\n",
    "        \n",
    "        # annotate points with git_ref:\n",
    "        for x, y, ref in zip(data['completion_time'], data['perf_value'], data['git']):\n",
    "            if not pd.isnull(ref):\n",
    "                ax.annotate(ref, (x, y))\n",
    "    ax.set_title(test)\n",
    "    ax.set_xlabel('completion time')\n",
    "    ax.set_ylabel('Gflops')\n",
    "    ax.legend()\n",
    "    ax.grid()    "
   ]
  },
  {
   "cell_type": "code",
   "execution_count": null,
   "metadata": {},
   "outputs": [],
   "source": []
  }
 ],
 "metadata": {
  "kernelspec": {
   "display_name": "Python 3",
   "language": "python",
   "name": "python3"
  },
  "language_info": {
   "codemirror_mode": {
    "name": "ipython",
    "version": 3
   },
   "file_extension": ".py",
   "mimetype": "text/x-python",
   "name": "python",
   "nbconvert_exporter": "python",
   "pygments_lexer": "ipython3",
   "version": "3.7.7"
  }
 },
 "nbformat": 4,
 "nbformat_minor": 4
}
