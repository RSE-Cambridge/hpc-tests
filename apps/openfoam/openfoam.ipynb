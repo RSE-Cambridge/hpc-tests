{
 "cells": [
  {
   "cell_type": "markdown",
   "metadata": {},
   "source": [
    "# Openfoam - Large Motorbike Benchmark\n",
    "\n",
    "Results from the openfoam CDF code for the semi-official large motorbike benchmark, documented [here](https://openfoamwiki.net/index.php/Benchmarks)."
   ]
  },
  {
   "cell_type": "code",
   "execution_count": null,
   "metadata": {},
   "outputs": [],
   "source": [
    "# Plotting setup\n",
    "%matplotlib inline\n",
    "import matplotlib.pyplot as plt\n",
    "from matplotlib import ticker\n",
    "from IPython.display import display, HTML\n",
    "\n",
    "import pandas as pd\n",
    "import os, sys\n",
    "from pprint import pprint\n",
    "sys.path.extend(('../../reframe', '../../')) # the `modules` package imports `reframe` so need that in sys.modules\n",
    "import modules"
   ]
  },
  {
   "cell_type": "markdown",
   "metadata": {},
   "source": [
    "The benchmark is run on a range of nodes using as many processes as there are physical cores on each node. The plots show results for the most-recent run on each system/partition/environment combination. They show the wallclock time in seconds vs. the number of nodes used for each run. Lower values are better performance. "
   ]
  },
  {
   "cell_type": "code",
   "execution_count": null,
   "metadata": {},
   "outputs": [],
   "source": [
    "df = modules.utils.tabulate_last_perf('Openfoam_Mbike_*', 'num_nodes', 'runtime_real')\n",
    "display(HTML(df.to_html()))\n",
    "ax = df.plot(grid=True, style='o-')\n",
    "ax.set_xlabel('number of nodes')\n",
    "ax.set_ylabel('wallclock time (s)')\n",
    "ax.set_title('Openfoam_Mbike_*')\n",
    "plt.tight_layout()"
   ]
  },
  {
   "cell_type": "code",
   "execution_count": null,
   "metadata": {},
   "outputs": [],
   "source": []
  }
 ],
 "metadata": {
  "kernelspec": {
   "display_name": "Python 3",
   "language": "python",
   "name": "python3"
  },
  "language_info": {
   "codemirror_mode": {
    "name": "ipython",
    "version": 3
   },
   "file_extension": ".py",
   "mimetype": "text/x-python",
   "name": "python",
   "nbconvert_exporter": "python",
   "pygments_lexer": "ipython3",
   "version": "3.7.7"
  }
 },
 "nbformat": 4,
 "nbformat_minor": 4
}
