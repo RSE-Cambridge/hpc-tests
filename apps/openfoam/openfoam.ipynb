{
 "cells": [
  {
   "cell_type": "markdown",
   "metadata": {},
   "source": [
    "# Openfoam - Large Motorbike Benchmark\n",
    "\n",
    "Results from the semi-official large motorbike benchmark, documented [here](https://openfoamwiki.net/index.php/Benchmarks). The benchmark is run on a range of nodes using as many processes as there are physical cores on the nodes."
   ]
  },
  {
   "cell_type": "code",
   "execution_count": 1,
   "metadata": {},
   "outputs": [],
   "source": [
    "# Plotting setup\n",
    "%matplotlib inline\n",
    "import matplotlib.pyplot as plt\n",
    "from matplotlib import ticker\n",
    "from IPython.display import display, HTML\n",
    "\n",
    "import pandas as pd\n",
    "import os, sys\n",
    "from pprint import pprint\n",
    "sys.path.extend(('../../reframe', '../../')) # the `modules` package imports `reframe` so need that in sys.modules\n",
    "import modules"
   ]
  },
  {
   "cell_type": "markdown",
   "metadata": {},
   "source": [
    "# Performance vs number of nodes\n",
    "\n",
    "The plots below are for the most-recent test on each system/partition/environment combination. They plot the wallclock time in seconds vs. the number of nodes used for each run. Lower values are better performance.\n",
    "\n",
    "Each test uses 1 task per (hardware) core."
   ]
  },
  {
   "cell_type": "code",
   "execution_count": 2,
   "metadata": {},
   "outputs": [
    {
     "name": "stdout",
     "output_type": "stream",
     "text": [
      "\n",
      "Openfoam_Mbike_*: runtime_real\n"
     ]
    },
    {
     "data": {
      "text/html": [
       "<table border=\"1\" class=\"dataframe\">\n",
       "  <thead>\n",
       "    <tr style=\"text-align: right;\">\n",
       "      <th>case</th>\n",
       "      <th>alaska-ib-openmpi4-ucx-openfoam</th>\n",
       "    </tr>\n",
       "    <tr>\n",
       "      <th>n_nodes</th>\n",
       "      <th></th>\n",
       "    </tr>\n",
       "  </thead>\n",
       "  <tbody>\n",
       "    <tr>\n",
       "      <th>1</th>\n",
       "      <td>87.484</td>\n",
       "    </tr>\n",
       "  </tbody>\n",
       "</table>"
      ],
      "text/plain": [
       "<IPython.core.display.HTML object>"
      ]
     },
     "metadata": {},
     "output_type": "display_data"
    },
    {
     "data": {
      "image/png": "[encoded data removed]",
      "text/plain": [
       "<Figure size 432x288 with 1 Axes>"
      ]
     },
     "metadata": {
      "needs_background": "light"
     },
     "output_type": "display_data"
    }
   ],
   "source": [
    "for test in ['Openfoam_Mbike_*']:\n",
    "    \n",
    "    # load perf records:\n",
    "    perf_records = modules.utils.load_perf_logs('../../perflogs', test, '.log')\n",
    "    \n",
    "    # calculate number of nodes:\n",
    "    perf_records['n_nodes'] = [int(tn.rsplit('_')[-1]) for tn in perf_records['testname']]\n",
    "    \n",
    "    # plot/tabulate:\n",
    "    perf_var = 'runtime_real'\n",
    "    table = modules.plots.tabulate_last_perf_vs(perf_records, 'n_nodes', perf_var)\n",
    "    ax = table.plot(grid=True, style='o-')\n",
    "    ax.set_xlabel('number of nodes')\n",
    "    ax.set_ylabel('wallclock time (s)')\n",
    "    ax.set_title(test)\n",
    "    plt.tight_layout()\n",
    "    print()\n",
    "    print('%s: %s' % (test, perf_var))\n",
    "    display(HTML(table.to_html()))\n"
   ]
  },
  {
   "cell_type": "code",
   "execution_count": null,
   "metadata": {},
   "outputs": [],
   "source": []
  }
 ],
 "metadata": {
  "kernelspec": {
   "display_name": "Python 3",
   "language": "python",
   "name": "python3"
  },
  "language_info": {
   "codemirror_mode": {
    "name": "ipython",
    "version": 3
   },
   "file_extension": ".py",
   "mimetype": "text/x-python",
   "name": "python",
   "nbconvert_exporter": "python",
   "pygments_lexer": "ipython3",
   "version": "3.7.7"
  }
 },
 "nbformat": 4,
 "nbformat_minor": 4
}
