{
 "cells": [
  {
   "cell_type": "markdown",
   "metadata": {},
   "source": [
    "# OSU Micro Benchmarks (IMB)\n",
    "\n",
    "Results of selected latency and bandwidth tests from the [OMB suite](http://mvapich.cse.ohio-state.edu/benchmarks/).\n",
    "\n",
    "All these tests use two nodes:\n",
    "\n",
    "- osu_bw: Single process per node\n",
    "- osu_latency: Single process per node\n",
    "- osu_bibw (Bidirectional Bandwidth Test): Single process per node\n",
    "- osu_mbw_mr (Multiple Bandwidth / Message Rate Test): Multiple processes per node, communicating in pairs split across nodes\n"
   ]
  },
  {
   "cell_type": "code",
   "execution_count": null,
   "metadata": {},
   "outputs": [],
   "source": [
    "# Plotting setup\n",
    "%matplotlib inline\n",
    "import matplotlib.pyplot as plt\n",
    "from matplotlib import ticker\n",
    "from IPython.display import display, HTML\n",
    "\n",
    "import pandas as pd\n",
    "import os, sys\n",
    "from pprint import pprint\n",
    "sys.path.extend(('../../reframe', '../../')) # the `modules` package imports `reframe` so need that in sys.modules\n",
    "import modules"
   ]
  },
  {
   "cell_type": "markdown",
   "metadata": {},
   "source": [
    "# Bandwidth/latency vs message size\n",
    "\n",
    "The plots below show results vs message size for tests using a single process per node. Results are for the most-recent test on each system/partition/environment combination."
   ]
  },
  {
   "cell_type": "code",
   "execution_count": null,
   "metadata": {},
   "outputs": [],
   "source": [
    "for test in ['Osu_bw', 'Osu_bibw', 'Osu_mbw_mr_2', 'Osu_latency']:\n",
    "    \n",
    "    # find all data and work out differences between them:\n",
    "    paths = modules.utils.find_run_outputs(root='../../output', test=test)\n",
    "    fig, ax = plt.subplots(nrows=1, ncols=1)\n",
    "    meta = [modules.utils.parse_path_metadata(p) for p in paths]\n",
    "    \n",
    "    # load and plot:\n",
    "    for ix, path in enumerate(paths):\n",
    "        data = modules.omb.read_omb_out(path)\n",
    "        label = '%s:%s' % (meta[ix]['sysname'], meta[ix]['partition'])\n",
    "        plt.plot(data.columns[0], data.columns[1], 'o-', data=data, label=label)\n",
    "        \n",
    "    # format plot:\n",
    "    ax.set_xscale('log', basex=2)\n",
    "    if 'latency' in test:\n",
    "        ax.set_yscale('log', basey=10)\n",
    "    ax.xaxis.set_major_formatter(ticker.FuncFormatter(lambda x, pos: modules.utils.sizeof_fmt(x)))\n",
    "    ax.grid(True, which=\"both\")\n",
    "    ax.set_xlabel(data.columns[0])\n",
    "    ax.set_ylabel(data.columns[1])\n",
    "    ax.set_title('%s: %s' % (test, data.columns[1]))\n",
    "    ax.legend()"
   ]
  },
  {
   "cell_type": "markdown",
   "metadata": {},
   "source": [
    "# Max Bandwidth/Message Rate vs Number of Processes per Node\n",
    "\n",
    "The plots below show the **maximum** bandwidth and message rate for tests using varying numbers of processes per node. Results are for the most-recent test on each system/partition/environment combination."
   ]
  },
  {
   "cell_type": "code",
   "execution_count": null,
   "metadata": {},
   "outputs": [],
   "source": [
    "# TODO: needs to be loaded from system config somewhere\n",
    "Gb_to_MB = 125.0\n",
    "\n",
    "test = 'Osu_mbw_mr_*'\n",
    "    \n",
    "for perf_var in ['max_bandwidth', 'max_message_rate']:\n",
    "    \n",
    "    # get, plot and tabulate data:\n",
    "    df = modules.utils.tabulate_last_perf(test, 'procs_per_node', perf_var)\n",
    "    print('%s: %s' % (perf_var, test))\n",
    "    display(HTML(df.to_html()))\n",
    "    ax = df.plot(grid=True, style='o-')\n",
    "    \n",
    "    # add max bandwidth to relevant plots:\n",
    "    if 'bandwidth' in perf_var:\n",
    "        xlim = ax.get_xlim()\n",
    "        for syspart, bw in modules.utils.get_sys_param('interconnect_Gb').items():\n",
    "            theoretical_bw_MB = bw * Gb_to_MB\n",
    "            label = syspart + \" (theoretical b/w)\"\n",
    "            ax.plot(xlim, [theoretical_bw_MB, theoretical_bw_MB], '--', label=label)\n",
    "    # format:\n",
    "    ax.set_xlabel('processes per node')\n",
    "    ax.set_ylabel(perf_var)\n",
    "    plt.tight_layout()\n",
    "    ax.set_title('%s: %s' % (test, perf_var))\n",
    "    ax.legend()\n"
   ]
  },
  {
   "cell_type": "code",
   "execution_count": null,
   "metadata": {},
   "outputs": [],
   "source": []
  }
 ],
 "metadata": {
  "kernelspec": {
   "display_name": "Python 3",
   "language": "python",
   "name": "python3"
  },
  "language_info": {
   "codemirror_mode": {
    "name": "ipython",
    "version": 3
   },
   "file_extension": ".py",
   "mimetype": "text/x-python",
   "name": "python",
   "nbconvert_exporter": "python",
   "pygments_lexer": "ipython3",
   "version": "3.7.7"
  }
 },
 "nbformat": 4,
 "nbformat_minor": 2
}
