{
 "cells": [
  {
   "cell_type": "markdown",
   "metadata": {},
   "source": [
    "# Intel MPI Benchmarks\n",
    "\n",
    "Results of selected MPI1 tests from the [IMB benchmark suite](https://software.intel.com/content/www/us/en/develop/documentation/imb-user-guide/top.html).\n",
    "\n",
    "All tests use two nodes:\n",
    "- pingpong: Single process per node\n",
    "- uniband: Multiple processes per node, communicating in pairs split across nodes\n",
    "- biband: As for uniband but communication initiated in both directions\n",
    "- alltoall: As many processes on each node as there are (hardware) cores\n",
    "\n",
    "Tests use a range of message sizes and report bandwidth and/or latency."
   ]
  },
  {
   "cell_type": "code",
   "execution_count": null,
   "metadata": {},
   "outputs": [],
   "source": [
    "# Plotting setup\n",
    "%matplotlib inline\n",
    "import matplotlib.pyplot as plt\n",
    "from matplotlib import ticker\n",
    "from IPython.display import display, HTML\n",
    "\n",
    "import pandas as pd\n",
    "import os, sys\n",
    "from pprint import pprint\n",
    "sys.path.extend(('../../reframe', '../../')) # the `modules` package imports `reframe` so need that in sys.modules\n",
    "import modules"
   ]
  },
  {
   "cell_type": "markdown",
   "metadata": {},
   "source": [
    "# Bandwidth/latency vs message size\n",
    "\n",
    "The plots below show results vs message size for selected tests:\n",
    "- pingpong\n",
    "- 2x process runs of uniband and biband\n",
    "- alltoall (using all cores on each node)\n",
    "\n",
    "Results are for the most-recent test on each system/partition/environment combination."
   ]
  },
  {
   "cell_type": "code",
   "execution_count": null,
   "metadata": {},
   "outputs": [],
   "source": [
    "for (test, column, param) in [('IMB_PingPong', 'Mbytes/sec', 'bandwidth'),\n",
    "                              ('IMB_PingPong', 't[usec]', 'latency'),\n",
    "                              ('IMB_Biband_2', 'Mbytes/sec', 'bandwidth'),\n",
    "                              ('IMB_Uniband_2', 'Mbytes/sec', 'bandwidth'),\n",
    "                             ]:\n",
    "    \n",
    "    # find all data and work out differences between them:\n",
    "    paths = modules.utils.find_run_outputs(root='../../output', test=test)\n",
    "    fig, ax = plt.subplots(nrows=1, ncols=1)\n",
    "    meta = [modules.utils.parse_path_metadata(p) for p in paths]\n",
    "    \n",
    "    # load and plot:\n",
    "    for ix, path in enumerate(paths):\n",
    "        datas = modules.imb.read_imb_out(path)\n",
    "        assert len(datas) == 1\n",
    "        data = datas[list(datas.keys())[0]]\n",
    "        label = '%s:%s' % (meta[ix]['sysname'], meta[ix]['partition'])\n",
    "        plt.plot(data['#bytes'], data[column], 'o-', data=data, label=label)\n",
    "        \n",
    "    # format plot:\n",
    "    ax.set_xscale('log', basex=2)\n",
    "    if param == 'latency':\n",
    "        ax.set_yscale('log', basey=10)\n",
    "    ax.xaxis.set_major_formatter(ticker.FuncFormatter(lambda x, pos: modules.utils.sizeof_fmt(x)))\n",
    "    ax.grid(True, which=\"both\")\n",
    "    ax.set_xlabel('#bytes')\n",
    "    ax.set_ylabel(column)\n",
    "    ax.set_title('%s: %s' % (test, param))\n",
    "    ax.legend()"
   ]
  },
  {
   "cell_type": "markdown",
   "metadata": {},
   "source": [
    "# Max Bandwidth vs Number of Processes per Node\n",
    "\n",
    "The plots below show the **maximum** bandwidth for tests using varying numbers of processes per node. Results are for the most-recent test on each system/partition/environment combination."
   ]
  },
  {
   "cell_type": "code",
   "execution_count": null,
   "metadata": {},
   "outputs": [],
   "source": [
    "# constants:\n",
    "Gb_to_MB = 125.0\n",
    "TEST_BANDWIDTH_FACTOR = {'IMB_Uniband_*':1.0, 'IMB_Biband_*':2.0} # b/c biband is bidirectional\n",
    "\n",
    "for test in ['IMB_Uniband_*', 'IMB_Biband_*']:\n",
    "    \n",
    "    # get, plot and tabulate data:\n",
    "    df = modules.utils.tabulate_last_perf(test, 'procs_per_node', 'max_bandwidth')\n",
    "    print('%s: Max bandwidth (MB)' % test)\n",
    "    display(HTML(df.to_html()))\n",
    "    ax = df.plot(grid=True, style='o-')\n",
    "    \n",
    "    # add max bandwidth info to plot:\n",
    "    xlim = ax.get_xlim()\n",
    "    for syspart, bw in modules.utils.get_sys_param('interconnect_Gb').items():\n",
    "        theoretical_bw_MB = bw * Gb_to_MB * TEST_BANDWIDTH_FACTOR[test]\n",
    "        label = syspart + \" (theoretical b/w)\"\n",
    "        ax.plot(xlim, [theoretical_bw_MB, theoretical_bw_MB], '--', label=label)\n",
    "    \n",
    "    # format plot:\n",
    "    ax.set_xlabel('processes per node')\n",
    "    ax.set_ylabel('max bandwidth (MB)')\n",
    "    plt.tight_layout()\n",
    "    ax.set_title(test)\n",
    "    ax.legend()\n",
    "    \n",
    "    # TODO: calculate real vs theortical perf\n",
    "    print('%s: Max bandwidth as %% of theoretical bandwidth' % test)\n",
    "    theory = [modules.utils.get_sysinfo(syspart)['interconnect_Gb'] * Gb_to_MB * TEST_BANDWIDTH_FACTOR[test] for syspart in df.columns]\n",
    "    df_percent = 100 * (df / theory)\n",
    "    #print('theory:', theory)\n",
    "    display(HTML(df_percent.astype(int).to_html()))\n",
    "    \n",
    "    print('-----------------------------------------------')\n"
   ]
  },
  {
   "cell_type": "code",
   "execution_count": null,
   "metadata": {},
   "outputs": [],
   "source": []
  }
 ],
 "metadata": {
  "kernelspec": {
   "display_name": "Python 3",
   "language": "python",
   "name": "python3"
  },
  "language_info": {
   "codemirror_mode": {
    "name": "ipython",
    "version": 3
   },
   "file_extension": ".py",
   "mimetype": "text/x-python",
   "name": "python",
   "nbconvert_exporter": "python",
   "pygments_lexer": "ipython3",
   "version": "3.7.7"
  }
 },
 "nbformat": 4,
 "nbformat_minor": 2
}
