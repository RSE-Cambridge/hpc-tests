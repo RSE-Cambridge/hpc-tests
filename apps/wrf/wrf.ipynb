{
 "cells": [
  {
   "cell_type": "markdown",
   "metadata": {},
   "source": [
    "# WRF\n",
    "\n",
    "Results from [WRF](https://www2.mmm.ucar.edu/wrf/) Weather Research & Forecasting Model using the [WRFV3 benchmarks](https://www2.mmm.ucar.edu/wrf/WG2/benchv3/)."
   ]
  },
  {
   "cell_type": "code",
   "execution_count": 1,
   "metadata": {},
   "outputs": [],
   "source": [
    "# Plotting setup\n",
    "%matplotlib inline\n",
    "import matplotlib.pyplot as plt\n",
    "from matplotlib import ticker\n",
    "from IPython.display import display, display_markdown\n",
    "\n",
    "import pandas as pd\n",
    "import os, sys\n",
    "from pprint import pprint\n",
    "sys.path.extend(('../../reframe', '../../')) # the `modules` package imports `reframe` so need that in sys.modules\n",
    "import modules"
   ]
  },
  {
   "cell_type": "markdown",
   "metadata": {},
   "source": [
    "# Performance vs number of nodes\n",
    "\n",
    "The benchmark is run on a range of nodes using as many processes as there are physical cores on each node. The plots show results for the most-recent run on each system/partition/environment combination. They show:\n",
    "- `runtime_real` (s): Wallclock time for the entire MPI job.\n",
    "- `av_time_per_step`: TODO\n",
    "\n",
    "Lower values are better performance. "
   ]
  },
  {
   "cell_type": "code",
   "execution_count": 4,
   "metadata": {},
   "outputs": [
    {
     "data": {
      "text/markdown": [
       "### WRF: runtime_real"
      ]
     },
     "metadata": {},
     "output_type": "display_data"
    },
    {
     "data": {
      "text/html": [
       "<div>\n",
       "<style scoped>\n",
       "    .dataframe tbody tr th:only-of-type {\n",
       "        vertical-align: middle;\n",
       "    }\n",
       "\n",
       "    .dataframe tbody tr th {\n",
       "        vertical-align: top;\n",
       "    }\n",
       "\n",
       "    .dataframe thead th {\n",
       "        text-align: right;\n",
       "    }\n",
       "</style>\n",
       "<table border=\"1\" class=\"dataframe\">\n",
       "  <thead>\n",
       "    <tr style=\"text-align: right;\">\n",
       "      <th>case</th>\n",
       "      <th>csd3:cclake-ib-icc19-impi19-ucx</th>\n",
       "      <th>csd3:cclake-roce-icc19-impi19-ucx</th>\n",
       "    </tr>\n",
       "    <tr>\n",
       "      <th>num_nodes</th>\n",
       "      <th></th>\n",
       "      <th></th>\n",
       "    </tr>\n",
       "  </thead>\n",
       "  <tbody>\n",
       "    <tr>\n",
       "      <th>1</th>\n",
       "      <td>58.744</td>\n",
       "      <td>59.232</td>\n",
       "    </tr>\n",
       "    <tr>\n",
       "      <th>2</th>\n",
       "      <td>36.885</td>\n",
       "      <td>36.562</td>\n",
       "    </tr>\n",
       "    <tr>\n",
       "      <th>4</th>\n",
       "      <td>32.721</td>\n",
       "      <td>34.122</td>\n",
       "    </tr>\n",
       "    <tr>\n",
       "      <th>8</th>\n",
       "      <td>22.626</td>\n",
       "      <td>82.088</td>\n",
       "    </tr>\n",
       "    <tr>\n",
       "      <th>16</th>\n",
       "      <td>18.497</td>\n",
       "      <td>82.899</td>\n",
       "    </tr>\n",
       "    <tr>\n",
       "      <th>32</th>\n",
       "      <td>20.733</td>\n",
       "      <td>NaN</td>\n",
       "    </tr>\n",
       "    <tr>\n",
       "      <th>56</th>\n",
       "      <td>20.053</td>\n",
       "      <td>NaN</td>\n",
       "    </tr>\n",
       "  </tbody>\n",
       "</table>\n",
       "</div>"
      ],
      "text/plain": [
       "case       csd3:cclake-ib-icc19-impi19-ucx  csd3:cclake-roce-icc19-impi19-ucx\n",
       "num_nodes                                                                    \n",
       "1                                   58.744                             59.232\n",
       "2                                   36.885                             36.562\n",
       "4                                   32.721                             34.122\n",
       "8                                   22.626                             82.088\n",
       "16                                  18.497                             82.899\n",
       "32                                  20.733                                NaN\n",
       "56                                  20.053                                NaN"
      ]
     },
     "metadata": {},
     "output_type": "display_data"
    },
    {
     "data": {
      "text/markdown": [
       "### WRF: av_time_per_step"
      ]
     },
     "metadata": {},
     "output_type": "display_data"
    },
    {
     "data": {
      "text/html": [
       "<div>\n",
       "<style scoped>\n",
       "    .dataframe tbody tr th:only-of-type {\n",
       "        vertical-align: middle;\n",
       "    }\n",
       "\n",
       "    .dataframe tbody tr th {\n",
       "        vertical-align: top;\n",
       "    }\n",
       "\n",
       "    .dataframe thead th {\n",
       "        text-align: right;\n",
       "    }\n",
       "</style>\n",
       "<table border=\"1\" class=\"dataframe\">\n",
       "  <thead>\n",
       "    <tr style=\"text-align: right;\">\n",
       "      <th>case</th>\n",
       "      <th>csd3:cclake-ib-icc19-impi19-ucx</th>\n",
       "      <th>csd3:cclake-roce-icc19-impi19-ucx</th>\n",
       "    </tr>\n",
       "    <tr>\n",
       "      <th>num_nodes</th>\n",
       "      <th></th>\n",
       "      <th></th>\n",
       "    </tr>\n",
       "  </thead>\n",
       "  <tbody>\n",
       "    <tr>\n",
       "      <th>1</th>\n",
       "      <td>0.297358</td>\n",
       "      <td>0.298064</td>\n",
       "    </tr>\n",
       "    <tr>\n",
       "      <th>2</th>\n",
       "      <td>0.141921</td>\n",
       "      <td>0.142551</td>\n",
       "    </tr>\n",
       "    <tr>\n",
       "      <th>4</th>\n",
       "      <td>0.075439</td>\n",
       "      <td>0.075147</td>\n",
       "    </tr>\n",
       "    <tr>\n",
       "      <th>8</th>\n",
       "      <td>0.038148</td>\n",
       "      <td>0.040219</td>\n",
       "    </tr>\n",
       "    <tr>\n",
       "      <th>16</th>\n",
       "      <td>0.025081</td>\n",
       "      <td>0.031383</td>\n",
       "    </tr>\n",
       "    <tr>\n",
       "      <th>32</th>\n",
       "      <td>0.017013</td>\n",
       "      <td>NaN</td>\n",
       "    </tr>\n",
       "    <tr>\n",
       "      <th>56</th>\n",
       "      <td>0.015479</td>\n",
       "      <td>NaN</td>\n",
       "    </tr>\n",
       "  </tbody>\n",
       "</table>\n",
       "</div>"
      ],
      "text/plain": [
       "case       csd3:cclake-ib-icc19-impi19-ucx  csd3:cclake-roce-icc19-impi19-ucx\n",
       "num_nodes                                                                    \n",
       "1                                 0.297358                           0.298064\n",
       "2                                 0.141921                           0.142551\n",
       "4                                 0.075439                           0.075147\n",
       "8                                 0.038148                           0.040219\n",
       "16                                0.025081                           0.031383\n",
       "32                                0.017013                                NaN\n",
       "56                                0.015479                                NaN"
      ]
     },
     "metadata": {},
     "output_type": "display_data"
    },
    {
     "data": {
      "image/png": "[encoded data removed]",
      "text/plain": [
       "<Figure size 432x288 with 1 Axes>"
      ]
     },
     "metadata": {
      "needs_background": "light"
     },
     "output_type": "display_data"
    },
    {
     "data": {
      "image/png": "[encoded data removed]",
      "text/plain": [
       "<Figure size 432x288 with 1 Axes>"
      ]
     },
     "metadata": {
      "needs_background": "light"
     },
     "output_type": "display_data"
    }
   ],
   "source": [
    "for var in ['runtime_real', 'av_time_per_step']:\n",
    "    df = modules.utils.tabulate_last_perf('WRF*', 'num_nodes', var)\n",
    "    title = 'WRF: %s' % var\n",
    "    display_markdown('### %s' % title, raw=True)\n",
    "    display(df)\n",
    "    ax = df.plot(grid=True, style='o-')\n",
    "    ax.set_xlabel('number of nodes')\n",
    "    ax.set_ylabel('wallclock time (s)')\n",
    "    ax.set_title(title)\n",
    "    plt.tight_layout()"
   ]
  },
  {
   "cell_type": "code",
   "execution_count": null,
   "metadata": {},
   "outputs": [],
   "source": []
  }
 ],
 "metadata": {
  "kernelspec": {
   "display_name": "Python 3",
   "language": "python",
   "name": "python3"
  },
  "language_info": {
   "codemirror_mode": {
    "name": "ipython",
    "version": 3
   },
   "file_extension": ".py",
   "mimetype": "text/x-python",
   "name": "python",
   "nbconvert_exporter": "python",
   "pygments_lexer": "ipython3",
   "version": "3.7.7"
  }
 },
 "nbformat": 4,
 "nbformat_minor": 4
}
