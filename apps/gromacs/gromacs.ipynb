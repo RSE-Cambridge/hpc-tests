{
 "cells": [
  {
   "cell_type": "markdown",
   "metadata": {},
   "source": [
    "# Gromacs - HECBioSim Benchmarks\n",
    "\n",
    "Results from the [Gromacs](http://www.gromacs.org/) molecular dynamics code on 3x [HECBioSim](http://www.hecbiosim.ac.uk/benchmarks) benchmarks:\n",
    "- 61K atom system - 1WDN Glutamine-Binding Protein\n",
    "- 1.4M atom system - A Pair of hEGFR Dimers of 1IVO and 1NQL\n",
    "- 3M atom system - A Pair of hEGFR tetramers of 1IVO and 1NQL"
   ]
  },
  {
   "cell_type": "code",
   "execution_count": null,
   "metadata": {},
   "outputs": [],
   "source": [
    "# Plotting setup\n",
    "%matplotlib inline\n",
    "import matplotlib.pyplot as plt\n",
    "from matplotlib import ticker\n",
    "from IPython.display import display, HTML\n",
    "\n",
    "import pandas as pd\n",
    "import os, sys\n",
    "from pprint import pprint\n",
    "sys.path.extend(('../../reframe', '../../')) # the `modules` package imports `reframe` so need that in sys.modules\n",
    "import modules"
   ]
  },
  {
   "cell_type": "markdown",
   "metadata": {},
   "source": [
    "# Performance vs number of nodes\n",
    "\n",
    "Each benchmark is run on a range of number of nodes, from 1 up to all available. Each run uses as many mpi tasks (processes) per node as there are physical cores, and the default Gromacs `-ntomp` OpenMP setting, which appears to add threads to use all cores (physical or logical). For further information on Gromacs parallelisation schemes see [here](http://www.gromacs.org/Documentation/Acceleration_and_parallelization) and [here](http://manual.gromacs.org/documentation/current/onlinehelp/gmx-mdrun.html#gmx-mdrun).\n",
    "\n",
    "The plots show results for the most-recent run on each system/partition/environment combination. They show the wallclock time in seconds vs. the number of nodes used for each run. Lower values are better performance. "
   ]
  },
  {
   "cell_type": "code",
   "execution_count": null,
   "metadata": {},
   "outputs": [],
   "source": [
    "for test in ['Gromacs_61k_*', 'Gromacs_1400k_*', 'Gromacs_3000k_*']:\n",
    "    df = modules.utils.tabulate_last_perf(test, 'num_nodes', 'runtime_real')\n",
    "    print('%s:' % test)\n",
    "    display(HTML(df.to_html()))\n",
    "    ax = df.plot(grid=True, style='o-')\n",
    "    ax.set_xlabel('number of nodes')\n",
    "    ax.set_ylabel('wallclock time (s)')\n",
    "    ax.set_title(test)\n",
    "    plt.tight_layout()"
   ]
  },
  {
   "cell_type": "code",
   "execution_count": null,
   "metadata": {},
   "outputs": [],
   "source": []
  }
 ],
 "metadata": {
  "kernelspec": {
   "display_name": "Python 3",
   "language": "python",
   "name": "python3"
  },
  "language_info": {
   "codemirror_mode": {
    "name": "ipython",
    "version": 3
   },
   "file_extension": ".py",
   "mimetype": "text/x-python",
   "name": "python",
   "nbconvert_exporter": "python",
   "pygments_lexer": "ipython3",
   "version": "3.7.7"
  }
 },
 "nbformat": 4,
 "nbformat_minor": 4
}
