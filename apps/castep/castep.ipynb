{
 "cells": [
  {
   "cell_type": "markdown",
   "metadata": {},
   "source": [
    "# CASTEP\n",
    "\n",
    "Results from performance tests of the material property code [CASTEP](http://www.castep.org/) using CASTEP-provided benchmarks:\n",
    "- Small benchmark: [TiN](http://www.castep.org/CASTEP/TiN)\n",
    "  > a 32-atom TiN surface, with an adsorbed H atom and a vacuum gap. There are 8 k-points, so it should scale well to 8 cores; beyond that, it relies on CASTEP's other parallelisation strategies.\n",
    "- Medium benchmark: [Al3x3](http://www.castep.org/CASTEP/Al3x3)\n",
    "  > a 270-atom sapphire surface, with a vacuum gap. There are only 2 k-points, so it is a good test of the performance of CASTEP's other parallelisation strategies.\n",
    "- Large benchmark: [DNA](/home/hpcbras1/hpc-tests/apps/castep/README.md)\n",
    "  > a 1356-atom simulation of a DNA strand (poly-A) with counter-ions, in a large simulation box. There is only 1 k-point (the gamma-point), so, like the Crambin test, its parallel performance is reliant on CASTEP's other parallelisation strategies.\n",
    "\n",
    "(descriptions from the CASTEP [benchmarks page](http://www.castep.org/CASTEP/Benchmarks))"
   ]
  },
  {
   "cell_type": "code",
   "execution_count": null,
   "metadata": {},
   "outputs": [],
   "source": [
    "# Plotting setup\n",
    "%matplotlib inline\n",
    "import matplotlib.pyplot as plt\n",
    "from matplotlib import ticker\n",
    "from IPython.display import display, HTML\n",
    "\n",
    "import pandas as pd\n",
    "import os, sys\n",
    "from pprint import pprint\n",
    "sys.path.extend(('../../reframe', '../../')) # the `modules` package imports `reframe` so need that in sys.modules\n",
    "import modules"
   ]
  },
  {
   "cell_type": "markdown",
   "metadata": {},
   "source": [
    "# Performance vs number of nodes\n",
    "\n",
    "Each benchmark is run on a range of number of nodes, from 1 up to all available. Each run uses as many mpi tasks (processes) per node as there are physical cores.\n",
    "\n",
    "The plots show results for the most-recent run on each system/partition/environment combination, against the number of nodes used for each run. Parameters are:\n",
    "- 'total_time' (s): Total time required for the simulation, as reported by CASTEP\n",
    "- 'parallel_efficiency' (%): Parallel efficiency, as reported by CASTEP\n",
    "- 'runtime_real' (s): Wallclock time reported by `time` for entire MPI program start to finish (i.e. may include additional setup/teardown time not captured in 'total_time').\n"
   ]
  },
  {
   "cell_type": "code",
   "execution_count": null,
   "metadata": {},
   "outputs": [],
   "source": [
    "for test in ['Castep_TiN', 'Castep_Al3x3_*', 'Castep_DNA_*']:\n",
    "    for perf_var in ['total_time', 'runtime_real', 'parallel_efficiency']:\n",
    "        df = modules.utils.tabulate_last_perf(test, 'num_nodes', perf_var)\n",
    "        if df is None:\n",
    "            print('%s: %s - No results found' % (test, perf_var))\n",
    "            continue\n",
    "        print('%s: %s' % (test, perf_var))\n",
    "        display(df)\n",
    "        ax = df.plot(grid=True, style='o-')\n",
    "        ax.set_xlabel('number of nodes')\n",
    "        ax.set_ylabel(perf_var)\n",
    "        ax.set_title('%s: %s' % (test, perf_var))\n",
    "        plt.tight_layout()"
   ]
  },
  {
   "cell_type": "code",
   "execution_count": null,
   "metadata": {},
   "outputs": [],
   "source": []
  }
 ],
 "metadata": {
  "kernelspec": {
   "display_name": "Python 3",
   "language": "python",
   "name": "python3"
  },
  "language_info": {
   "codemirror_mode": {
    "name": "ipython",
    "version": 3
   },
   "file_extension": ".py",
   "mimetype": "text/x-python",
   "name": "python",
   "nbconvert_exporter": "python",
   "pygments_lexer": "ipython3",
   "version": "3.7.7"
  }
 },
 "nbformat": 4,
 "nbformat_minor": 4
}
